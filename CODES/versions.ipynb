{
 "cells": [
  {
   "cell_type": "code",
   "execution_count": 1,
   "id": "73ef1cdc",
   "metadata": {},
   "outputs": [],
   "source": [
    "import pandas\n",
    "import tabulate\n",
    "import langchain\n",
    "import numpy\n",
    "import uvicorn\n",
    "import fastapi"
   ]
  },
  {
   "cell_type": "code",
   "execution_count": 2,
   "id": "53f1934b",
   "metadata": {},
   "outputs": [
    {
     "name": "stdout",
     "output_type": "stream",
     "text": [
      "pandas==1.5.3\n",
      "tabulate==0.8.10\n",
      "langchain==0.0.193\n",
      "numpy==1.24.3\n",
      "uvicorn==0.20.0\n",
      "fastapi==0.96.0\n"
     ]
    }
   ],
   "source": [
    "print(f'pandas=={pandas.__version__}')\n",
    "print(f'tabulate=={tabulate.__version__}')\n",
    "print(f'langchain=={langchain.__version__}')\n",
    "print(f'numpy=={numpy.__version__}')\n",
    "print(f'uvicorn=={uvicorn.__version__}')\n",
    "print(f'fastapi=={fastapi.__version__}')"
   ]
  },
  {
   "cell_type": "code",
   "execution_count": null,
   "id": "493b6fc5",
   "metadata": {},
   "outputs": [],
   "source": []
  }
 ],
 "metadata": {
  "kernelspec": {
   "display_name": "Python 3 (ipykernel)",
   "language": "python",
   "name": "python3"
  },
  "language_info": {
   "codemirror_mode": {
    "name": "ipython",
    "version": 3
   },
   "file_extension": ".py",
   "mimetype": "text/x-python",
   "name": "python",
   "nbconvert_exporter": "python",
   "pygments_lexer": "ipython3",
   "version": "3.10.11"
  }
 },
 "nbformat": 4,
 "nbformat_minor": 5
}
